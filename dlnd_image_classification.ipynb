{
 "cells": [
  {
   "cell_type": "markdown",
   "metadata": {
    "collapsed": true,
    "deletable": true,
    "editable": true
   },
   "source": [
    "# Image Classification\n",
    "In this project, you'll classify images from the [CIFAR-10 dataset](https://www.cs.toronto.edu/~kriz/cifar.html).  The dataset consists of airplanes, dogs, cats, and other objects. You'll preprocess the images, then train a convolutional neural network on all the samples. The images need to be normalized and the labels need to be one-hot encoded.  You'll get to apply what you learned and build a convolutional, max pooling, dropout, and fully connected layers.  At the end, you'll get to see your neural network's predictions on the sample images.\n",
    "## Get the Data\n",
    "Run the following cell to download the [CIFAR-10 dataset for python](https://www.cs.toronto.edu/~kriz/cifar-10-python.tar.gz)."
   ]
  },
  {
   "cell_type": "code",
   "execution_count": 1,
   "metadata": {
    "collapsed": false,
    "deletable": true,
    "editable": true
   },
   "outputs": [
    {
     "name": "stdout",
     "output_type": "stream",
     "text": [
      "All files found!\n"
     ]
    }
   ],
   "source": [
    "\"\"\"\n",
    "DON'T MODIFY ANYTHING IN THIS CELL THAT IS BELOW THIS LINE\n",
    "\"\"\"\n",
    "from urllib.request import urlretrieve\n",
    "from os.path import isfile, isdir\n",
    "from tqdm import tqdm\n",
    "import problem_unittests as tests\n",
    "import tarfile\n",
    "\n",
    "cifar10_dataset_folder_path = 'cifar-10-batches-py'\n",
    "\n",
    "class DLProgress(tqdm):\n",
    "    last_block = 0\n",
    "\n",
    "    def hook(self, block_num=1, block_size=1, total_size=None):\n",
    "        self.total = total_size\n",
    "        self.update((block_num - self.last_block) * block_size)\n",
    "        self.last_block = block_num\n",
    "\n",
    "if not isfile('cifar-10-python.tar.gz'):\n",
    "    with DLProgress(unit='B', unit_scale=True, miniters=1, desc='CIFAR-10 Dataset') as pbar:\n",
    "        urlretrieve(\n",
    "            'https://www.cs.toronto.edu/~kriz/cifar-10-python.tar.gz',\n",
    "            'cifar-10-python.tar.gz',\n",
    "            pbar.hook)\n",
    "\n",
    "if not isdir(cifar10_dataset_folder_path):\n",
    "    with tarfile.open('cifar-10-python.tar.gz') as tar:\n",
    "        tar.extractall()\n",
    "        tar.close()\n",
    "\n",
    "\n",
    "tests.test_folder_path(cifar10_dataset_folder_path)"
   ]
  },
  {
   "cell_type": "markdown",
   "metadata": {
    "deletable": true,
    "editable": true
   },
   "source": [
    "## Explore the Data\n",
    "The dataset is broken into batches to prevent your machine from running out of memory.  The CIFAR-10 dataset consists of 5 batches, named `data_batch_1`, `data_batch_2`, etc.. Each batch contains the labels and images that are one of the following:\n",
    "* airplane\n",
    "* automobile\n",
    "* bird\n",
    "* cat\n",
    "* deer\n",
    "* dog\n",
    "* frog\n",
    "* horse\n",
    "* ship\n",
    "* truck\n",
    "\n",
    "Understanding a dataset is part of making predictions on the data.  Play around with the code cell below by changing the `batch_id` and `sample_id`. The `batch_id` is the id for a batch (1-5). The `sample_id` is the id for a image and label pair in the batch.\n",
    "\n",
    "Ask yourself \"What are all possible labels?\", \"What is the range of values for the image data?\", \"Are the labels in order or random?\".  Answers to questions like these will help you preprocess the data and end up with better predictions."
   ]
  },
  {
   "cell_type": "code",
   "execution_count": 2,
   "metadata": {
    "collapsed": false,
    "deletable": true,
    "editable": true
   },
   "outputs": [
    {
     "name": "stdout",
     "output_type": "stream",
     "text": [
      "\n",
      "Stats of batch 1:\n",
      "Samples: 10000\n",
      "Label Counts: {0: 1005, 1: 974, 2: 1032, 3: 1016, 4: 999, 5: 937, 6: 1030, 7: 1001, 8: 1025, 9: 981}\n",
      "First 20 Labels: [6, 9, 9, 4, 1, 1, 2, 7, 8, 3, 4, 7, 7, 2, 9, 9, 9, 3, 2, 6]\n",
      "\n",
      "Example of Image 5:\n",
      "Image - Min Value: 0 Max Value: 252\n",
      "Image - Shape: (32, 32, 3)\n",
      "Label - Label Id: 1 Name: automobile\n"
     ]
    },
    {
     "data": {
      "image/png": "[encoded data removed]",
      "text/plain": [
       "<matplotlib.figure.Figure at 0x7f626654ef60>"
      ]
     },
     "metadata": {
      "image/png": {
       "height": 250,
       "width": 253
      }
     },
     "output_type": "display_data"
    }
   ],
   "source": [
    "%matplotlib inline\n",
    "%config InlineBackend.figure_format = 'retina'\n",
    "\n",
    "import helper\n",
    "import numpy as np\n",
    "\n",
    "# Explore the dataset\n",
    "batch_id = 1\n",
    "sample_id = 5\n",
    "helper.display_stats(cifar10_dataset_folder_path, batch_id, sample_id)"
   ]
  },
  {
   "cell_type": "markdown",
   "metadata": {
    "deletable": true,
    "editable": true
   },
   "source": [
    "## Implement Preprocess Functions\n",
    "### Normalize\n",
    "In the cell below, implement the `normalize` function to take in image data, `x`, and return it as a normalized Numpy array. The values should be in the range of 0 to 1, inclusive.  The return object should be the same shape as `x`."
   ]
  },
  {
   "cell_type": "code",
   "execution_count": 3,
   "metadata": {
    "collapsed": false,
    "deletable": true,
    "editable": true
   },
   "outputs": [
    {
     "name": "stdout",
     "output_type": "stream",
     "text": [
      "Tests Passed\n"
     ]
    }
   ],
   "source": [
    "def normalize(x):\n",
    "    \"\"\"\n",
    "    Normalize a list of sample image data in the range of 0 to 1\n",
    "    : x: List of image data.  The image shape is (32, 32, 3)\n",
    "    : return: Numpy array of normalize data\n",
    "    \"\"\"\n",
    "    # TODO: Implement Function\n",
    "    return x/x.max()\n",
    "\n",
    "\n",
    "\"\"\"\n",
    "DON'T MODIFY ANYTHING IN THIS CELL THAT IS BELOW THIS LINE\n",
    "\"\"\"\n",
    "tests.test_normalize(normalize)"
   ]
  },
  {
   "cell_type": "markdown",
   "metadata": {
    "deletable": true,
    "editable": true
   },
   "source": [
    "### One-hot encode\n",
    "Just like the previous code cell, you'll be implementing a function for preprocessing.  This time, you'll implement the `one_hot_encode` function. The input, `x`, are a list of labels.  Implement the function to return the list of labels as One-Hot encoded Numpy array.  The possible values for labels are 0 to 9. The one-hot encoding function should return the same encoding for each value between each call to `one_hot_encode`.  Make sure to save the map of encodings outside the function.\n",
    "\n",
    "Hint: Don't reinvent the wheel."
   ]
  },
  {
   "cell_type": "code",
   "execution_count": 4,
   "metadata": {
    "collapsed": false,
    "deletable": true,
    "editable": true
   },
   "outputs": [
    {
     "name": "stdout",
     "output_type": "stream",
     "text": [
      "Tests Passed\n"
     ]
    }
   ],
   "source": [
    "def one_hot_encode(x):\n",
    "    \"\"\"\n",
    "    One hot encode a list of sample labels. Return a one-hot encoded vector for each label.\n",
    "    : x: List of sample Labels\n",
    "    : return: Numpy array of one-hot encoded labels\n",
    "    \"\"\"\n",
    "    # TODO: Implement Function\n",
    "    a = np.zeros((len(x), 10), dtype=np.int8)\n",
    "    a[np.arange(len(x)), x] = 1\n",
    "    return a\n",
    "\n",
    "\"\"\"\n",
    "DON'T MODIFY ANYTHING IN THIS CELL THAT IS BELOW THIS LINE\n",
    "\"\"\"\n",
    "tests.test_one_hot_encode(one_hot_encode)"
   ]
  },
  {
   "cell_type": "markdown",
   "metadata": {
    "deletable": true,
    "editable": true
   },
   "source": [
    "### Randomize Data\n",
    "As you saw from exploring the data above, the order of the samples are randomized.  It doesn't hurt to randomize it again, but you don't need to for this dataset."
   ]
  },
  {
   "cell_type": "markdown",
   "metadata": {
    "deletable": true,
    "editable": true
   },
   "source": [
    "## Preprocess all the data and save it\n",
    "Running the code cell below will preprocess all the CIFAR-10 data and save it to file. The code below also uses 10% of the training data for validation."
   ]
  },
  {
   "cell_type": "code",
   "execution_count": 5,
   "metadata": {
    "collapsed": false,
    "deletable": true,
    "editable": true
   },
   "outputs": [],
   "source": [
    "\"\"\"\n",
    "DON'T MODIFY ANYTHING IN THIS CELL\n",
    "\"\"\"\n",
    "# Preprocess Training, Validation, and Testing Data\n",
    "helper.preprocess_and_save_data(cifar10_dataset_folder_path, normalize, one_hot_encode)"
   ]
  },
  {
   "cell_type": "markdown",
   "metadata": {
    "deletable": true,
    "editable": true
   },
   "source": [
    "# Check Point\n",
    "This is your first checkpoint.  If you ever decide to come back to this notebook or have to restart the notebook, you can start from here.  The preprocessed data has been saved to disk."
   ]
  },
  {
   "cell_type": "code",
   "execution_count": 6,
   "metadata": {
    "collapsed": true,
    "deletable": true,
    "editable": true
   },
   "outputs": [],
   "source": [
    "\"\"\"\n",
    "DON'T MODIFY ANYTHING IN THIS CELL\n",
    "\"\"\"\n",
    "import pickle\n",
    "import problem_unittests as tests\n",
    "import helper\n",
    "\n",
    "# Load the Preprocessed Validation data\n",
    "valid_features, valid_labels = pickle.load(open('preprocess_validation.p', mode='rb'))"
   ]
  },
  {
   "cell_type": "markdown",
   "metadata": {
    "deletable": true,
    "editable": true
   },
   "source": [
    "## Build the network\n",
    "For the neural network, you'll build each layer into a function.  Most of the code you've seen has been outside of functions. To test your code more thoroughly, we require that you put each layer in a function.  This allows us to give you better feedback and test for simple mistakes using our unittests before you submit your project.\n",
    "\n",
    ">**Note:** If you're finding it hard to dedicate enough time for this course each week, we've provided a small shortcut to this part of the project. In the next couple of problems, you'll have the option to use classes from the [TensorFlow Layers](https://www.tensorflow.org/api_docs/python/tf/layers) or [TensorFlow Layers (contrib)](https://www.tensorflow.org/api_guides/python/contrib.layers) packages to build each layer, except the layers you build in the \"Convolutional and Max Pooling Layer\" section.  TF Layers is similar to Keras's and TFLearn's abstraction to layers, so it's easy to pickup.\n",
    "\n",
    ">However, if you would like to get the most out of this course, try to solve all the problems _without_ using anything from the TF Layers packages. You **can** still use classes from other packages that happen to have the same name as ones you find in TF Layers! For example, instead of using the TF Layers version of the `conv2d` class, [tf.layers.conv2d](https://www.tensorflow.org/api_docs/python/tf/layers/conv2d), you would want to use the TF Neural Network version of `conv2d`, [tf.nn.conv2d](https://www.tensorflow.org/api_docs/python/tf/nn/conv2d). \n",
    "\n",
    "Let's begin!\n",
    "\n",
    "### Input\n",
    "The neural network needs to read the image data, one-hot encoded labels, and dropout keep probability. Implement the following functions\n",
    "* Implement `neural_net_image_input`\n",
    " * Return a [TF Placeholder](https://www.tensorflow.org/api_docs/python/tf/placeholder)\n",
    " * Set the shape using `image_shape` with batch size set to `None`.\n",
    " * Name the TensorFlow placeholder \"x\" using the TensorFlow `name` parameter in the [TF Placeholder](https://www.tensorflow.org/api_docs/python/tf/placeholder).\n",
    "* Implement `neural_net_label_input`\n",
    " * Return a [TF Placeholder](https://www.tensorflow.org/api_docs/python/tf/placeholder)\n",
    " * Set the shape using `n_classes` with batch size set to `None`.\n",
    " * Name the TensorFlow placeholder \"y\" using the TensorFlow `name` parameter in the [TF Placeholder](https://www.tensorflow.org/api_docs/python/tf/placeholder).\n",
    "* Implement `neural_net_keep_prob_input`\n",
    " * Return a [TF Placeholder](https://www.tensorflow.org/api_docs/python/tf/placeholder) for dropout keep probability.\n",
    " * Name the TensorFlow placeholder \"keep_prob\" using the TensorFlow `name` parameter in the [TF Placeholder](https://www.tensorflow.org/api_docs/python/tf/placeholder).\n",
    "\n",
    "These names will be used at the end of the project to load your saved model.\n",
    "\n",
    "Note: `None` for shapes in TensorFlow allow for a dynamic size."
   ]
  },
  {
   "cell_type": "code",
   "execution_count": 7,
   "metadata": {
    "collapsed": false,
    "deletable": true,
    "editable": true
   },
   "outputs": [
    {
     "name": "stdout",
     "output_type": "stream",
     "text": [
      "Image Input Tests Passed.\n",
      "Label Input Tests Passed.\n",
      "Keep Prob Tests Passed.\n"
     ]
    }
   ],
   "source": [
    "import tensorflow as tf\n",
    "\n",
    "def neural_net_image_input(image_shape):\n",
    "    \"\"\"\n",
    "    Return a Tensor for a bach of image input\n",
    "    : image_shape: Shape of the images\n",
    "    : return: Tensor for image input.\n",
    "    \"\"\"\n",
    "    # TODO: Implement Function\n",
    "    return tf.placeholder(tf.float32, (None, ) + image_shape, name='x')\n",
    "\n",
    "\n",
    "def neural_net_label_input(n_classes):\n",
    "    \"\"\"\n",
    "    Return a Tensor for a batch of label input\n",
    "    : n_classes: Number of classes\n",
    "    : return: Tensor for label input.\n",
    "    \"\"\"\n",
    "    # TODO: Implement Function\n",
    "    return tf.placeholder(tf.float32, [None, n_classes], name='y')\n",
    "\n",
    "\n",
    "def neural_net_keep_prob_input():\n",
    "    \"\"\"\n",
    "    Return a Tensor for keep probability\n",
    "    : return: Tensor for keep probability.\n",
    "    \"\"\"\n",
    "    # TODO: Implement Function\n",
    "    return tf.placeholder(tf.float32, name='keep_prob')\n",
    "\n",
    "\n",
    "\"\"\"\n",
    "DON'T MODIFY ANYTHING IN THIS CELL THAT IS BELOW THIS LINE\n",
    "\"\"\"\n",
    "tf.reset_default_graph()\n",
    "tests.test_nn_image_inputs(neural_net_image_input)\n",
    "tests.test_nn_label_inputs(neural_net_label_input)\n",
    "tests.test_nn_keep_prob_inputs(neural_net_keep_prob_input)"
   ]
  },
  {
   "cell_type": "markdown",
   "metadata": {
    "deletable": true,
    "editable": true
   },
   "source": [
    "### Convolution and Max Pooling Layer\n",
    "Convolution layers have a lot of success with images. For this code cell, you should implement the function `conv2d_maxpool` to apply convolution then max pooling:\n",
    "* Create the weight and bias using `conv_ksize`, `conv_num_outputs` and the shape of `x_tensor`.\n",
    "* Apply a convolution to `x_tensor` using weight and `conv_strides`.\n",
    " * We recommend you use same padding, but you're welcome to use any padding.\n",
    "* Add bias\n",
    "* Add a nonlinear activation to the convolution.\n",
    "* Apply Max Pooling using `pool_ksize` and `pool_strides`.\n",
    " * We recommend you use same padding, but you're welcome to use any padding.\n",
    "\n",
    "**Note:** You **can't** use [TensorFlow Layers](https://www.tensorflow.org/api_docs/python/tf/layers) or [TensorFlow Layers (contrib)](https://www.tensorflow.org/api_guides/python/contrib.layers) for **this** layer, but you can still use TensorFlow's [Neural Network](https://www.tensorflow.org/api_docs/python/tf/nn) package. You may still use the shortcut option for all the **other** layers."
   ]
  },
  {
   "cell_type": "code",
   "execution_count": 8,
   "metadata": {
    "collapsed": false,
    "deletable": true,
    "editable": true
   },
   "outputs": [
    {
     "name": "stdout",
     "output_type": "stream",
     "text": [
      "Tests Passed\n"
     ]
    }
   ],
   "source": [
    "def conv2d_maxpool(x_tensor, conv_num_outputs, conv_ksize, conv_strides, pool_ksize, pool_strides):\n",
    "    \"\"\"\n",
    "    Apply convolution then max pooling to x_tensor\n",
    "    :param x_tensor: TensorFlow Tensor\n",
    "    :param conv_num_outputs: Number of outputs for the convolutional layer\n",
    "    :param conv_ksize: kernal size 2-D Tuple for the convolutional layer\n",
    "    :param conv_strides: Stride 2-D Tuple for convolution\n",
    "    :param pool_ksize: kernal size 2-D Tuple for pool\n",
    "    :param pool_strides: Stride 2-D Tuple for pool\n",
    "    : return: A tensor that represents convolution and max pooling of x_tensor\n",
    "    \"\"\"\n",
    "    # TODO: Implement Function\n",
    "    input_depth = x_tensor.get_shape()[-1].value\n",
    "    w = tf.Variable(tf.random_normal([conv_ksize[0], conv_ksize[1], input_depth, conv_num_outputs], stddev=0.01))\n",
    "    b = tf.Variable(tf.zeros([conv_num_outputs]))\n",
    "    \n",
    "    x_tensor = tf.nn.conv2d(x_tensor, w, \n",
    "                            strides=[1, conv_strides[0], conv_strides[1], 1],\n",
    "                            padding='SAME')\n",
    "    \n",
    "    x_tensor = tf.nn.bias_add(x_tensor, b)\n",
    "    x_tensor = tf.nn.relu(x_tensor)\n",
    "    \n",
    "    return tf.nn.max_pool(x_tensor,\n",
    "                          ksize=[1, pool_ksize[0], pool_ksize[1], 1],\n",
    "                          strides=[1, pool_strides[0], pool_strides[1], 1],\n",
    "                          padding='SAME') \n",
    "\n",
    "\n",
    "\"\"\"\n",
    "DON'T MODIFY ANYTHING IN THIS CELL THAT IS BELOW THIS LINE\n",
    "\"\"\"\n",
    "tests.test_con_pool(conv2d_maxpool)"
   ]
  },
  {
   "cell_type": "markdown",
   "metadata": {
    "deletable": true,
    "editable": true
   },
   "source": [
    "### Flatten Layer\n",
    "Implement the `flatten` function to change the dimension of `x_tensor` from a 4-D tensor to a 2-D tensor.  The output should be the shape (*Batch Size*, *Flattened Image Size*). Shortcut option: you can use classes from the [TensorFlow Layers](https://www.tensorflow.org/api_docs/python/tf/layers) or [TensorFlow Layers (contrib)](https://www.tensorflow.org/api_guides/python/contrib.layers) packages for this layer. For more of a challenge, only use other TensorFlow packages."
   ]
  },
  {
   "cell_type": "code",
   "execution_count": 9,
   "metadata": {
    "collapsed": false,
    "deletable": true,
    "editable": true
   },
   "outputs": [
    {
     "name": "stdout",
     "output_type": "stream",
     "text": [
      "Tests Passed\n"
     ]
    }
   ],
   "source": [
    "import numpy as np\n",
    "\n",
    "def flatten(x_tensor):\n",
    "    \"\"\"\n",
    "    Flatten x_tensor to (Batch Size, Flattened Image Size)\n",
    "    : x_tensor: A tensor of size (Batch Size, ...), where ... are the image dimensions.\n",
    "    : return: A tensor of size (Batch Size, Flattened Image Size).\n",
    "    \"\"\"\n",
    "    # TODO: Implement Function\n",
    "    size = np.prod(x_tensor.get_shape().as_list()[1:])\n",
    "    return tf.reshape(x_tensor, [-1, size])\n",
    "\n",
    "\n",
    "\"\"\"\n",
    "DON'T MODIFY ANYTHING IN THIS CELL THAT IS BELOW THIS LINE\n",
    "\"\"\"\n",
    "tests.test_flatten(flatten)"
   ]
  },
  {
   "cell_type": "markdown",
   "metadata": {
    "deletable": true,
    "editable": true
   },
   "source": [
    "### Fully-Connected Layer\n",
    "Implement the `fully_conn` function to apply a fully connected layer to `x_tensor` with the shape (*Batch Size*, *num_outputs*). Shortcut option: you can use classes from the [TensorFlow Layers](https://www.tensorflow.org/api_docs/python/tf/layers) or [TensorFlow Layers (contrib)](https://www.tensorflow.org/api_guides/python/contrib.layers) packages for this layer. For more of a challenge, only use other TensorFlow packages."
   ]
  },
  {
   "cell_type": "code",
   "execution_count": 10,
   "metadata": {
    "collapsed": false,
    "deletable": true,
    "editable": true
   },
   "outputs": [
    {
     "name": "stdout",
     "output_type": "stream",
     "text": [
      "Tests Passed\n"
     ]
    }
   ],
   "source": [
    "def fully_conn(x_tensor, num_outputs):\n",
    "    \"\"\"\n",
    "    Apply a fully connected layer to x_tensor using weight and bias\n",
    "    : x_tensor: A 2-D tensor where the first dimension is batch size.\n",
    "    : num_outputs: The number of output that the new tensor should be.\n",
    "    : return: A 2-D tensor where the second dimension is num_outputs.\n",
    "    \"\"\"\n",
    "    # TODO: Implement Function\n",
    "    num_inputs = x_tensor.get_shape()[1].value\n",
    "    w = tf.Variable(tf.random_normal([num_inputs, num_outputs], stddev=0.01))\n",
    "    b = tf.Variable(tf.zeros([num_outputs]))\n",
    "    return tf.nn.relu(tf.matmul(x_tensor, w) + b)\n",
    "\n",
    "\"\"\"\n",
    "DON'T MODIFY ANYTHING IN THIS CELL THAT IS BELOW THIS LINE\n",
    "\"\"\"\n",
    "tests.test_fully_conn(fully_conn)"
   ]
  },
  {
   "cell_type": "markdown",
   "metadata": {
    "deletable": true,
    "editable": true
   },
   "source": [
    "### Output Layer\n",
    "Implement the `output` function to apply a fully connected layer to `x_tensor` with the shape (*Batch Size*, *num_outputs*). Shortcut option: you can use classes from the [TensorFlow Layers](https://www.tensorflow.org/api_docs/python/tf/layers) or [TensorFlow Layers (contrib)](https://www.tensorflow.org/api_guides/python/contrib.layers) packages for this layer. For more of a challenge, only use other TensorFlow packages.\n",
    "\n",
    "**Note:** Activation, softmax, or cross entropy should **not** be applied to this."
   ]
  },
  {
   "cell_type": "code",
   "execution_count": 11,
   "metadata": {
    "collapsed": false,
    "deletable": true,
    "editable": true
   },
   "outputs": [
    {
     "name": "stdout",
     "output_type": "stream",
     "text": [
      "Tests Passed\n"
     ]
    }
   ],
   "source": [
    "def output(x_tensor, num_outputs):\n",
    "    \"\"\"\n",
    "    Apply a output layer to x_tensor using weight and bias\n",
    "    : x_tensor: A 2-D tensor where the first dimension is batch size.\n",
    "    : num_outputs: The number of output that the new tensor should be.\n",
    "    : return: A 2-D tensor where the second dimension is num_outputs.\n",
    "    \"\"\"\n",
    "    # TODO: Implement Function\n",
    "    num_inputs = x_tensor.get_shape()[1].value\n",
    "    w = tf.Variable(tf.random_normal([num_inputs, num_outputs], stddev=0.01))\n",
    "    b = tf.Variable(tf.zeros([num_outputs]))\n",
    "    return tf.matmul(x_tensor, w) + b\n",
    "\n",
    "\n",
    "\"\"\"\n",
    "DON'T MODIFY ANYTHING IN THIS CELL THAT IS BELOW THIS LINE\n",
    "\"\"\"\n",
    "tests.test_output(output)"
   ]
  },
  {
   "cell_type": "markdown",
   "metadata": {
    "deletable": true,
    "editable": true
   },
   "source": [
    "### Create Convolutional Model\n",
    "Implement the function `conv_net` to create a convolutional neural network model. The function takes in a batch of images, `x`, and outputs logits.  Use the layers you created above to create this model:\n",
    "\n",
    "* Apply 1, 2, or 3 Convolution and Max Pool layers\n",
    "* Apply a Flatten Layer\n",
    "* Apply 1, 2, or 3 Fully Connected Layers\n",
    "* Apply an Output Layer\n",
    "* Return the output\n",
    "* Apply [TensorFlow's Dropout](https://www.tensorflow.org/api_docs/python/tf/nn/dropout) to one or more layers in the model using `keep_prob`. "
   ]
  },
  {
   "cell_type": "code",
   "execution_count": 12,
   "metadata": {
    "collapsed": false,
    "deletable": true,
    "editable": true
   },
   "outputs": [
    {
     "name": "stdout",
     "output_type": "stream",
     "text": [
      "Neural Network Built!\n"
     ]
    }
   ],
   "source": [
    "def conv_net(x, keep_prob):\n",
    "    \"\"\"\n",
    "    Create a convolutional neural network model\n",
    "    : x: Placeholder tensor that holds image data.\n",
    "    : keep_prob: Placeholder tensor that hold dropout keep probability.\n",
    "    : return: Tensor that represents logits\n",
    "    \"\"\"\n",
    "    # TODO: Apply 1, 2, or 3 Convolution and Max Pool layers\n",
    "    #    Play around with different number of outputs, kernel size and stride\n",
    "    # Function Definition from Above:\n",
    "    #    conv2d_maxpool(x_tensor, conv_num_outputs, conv_ksize, conv_strides, pool_ksize, pool_strides)\n",
    "    x = conv2d_maxpool(x,  32, (2,2), (1,1), (2,2), (2,2))\n",
    "    x = conv2d_maxpool(x,  64, (2,2), (1,1), (2,2), (2,2))\n",
    "\n",
    "    # TODO: Apply a Flatten Layer\n",
    "    # Function Definition from Above:\n",
    "    #   flatten(x_tensor)\n",
    "    x = flatten(x)\n",
    "\n",
    "    # TODO: Apply 1, 2, or 3 Fully Connected Layers\n",
    "    #    Play around with different number of outputs\n",
    "    # Function Definition from Above:\n",
    "    #   fully_conn(x_tensor, num_outputs)   \n",
    "    \n",
    "    x = fully_conn(x, 512)\n",
    "    x = tf.nn.dropout(x, keep_prob)\n",
    "    x = fully_conn(x, 512)\n",
    "    x = tf.nn.dropout(x, keep_prob)\n",
    "    \n",
    "    # TODO: Apply an Output Layer\n",
    "    #    Set this to the number of classes\n",
    "    # Function Definition from Above:\n",
    "    #   output(x_tensor, num_outputs)\n",
    "    x = output(x, 10)\n",
    "    \n",
    "    # TODO: return output\n",
    "    return x\n",
    "\n",
    "\n",
    "\"\"\"\n",
    "DON'T MODIFY ANYTHING IN THIS CELL THAT IS BELOW THIS LINE\n",
    "\"\"\"\n",
    "\n",
    "##############################\n",
    "## Build the Neural Network ##\n",
    "##############################\n",
    "\n",
    "# Remove previous weights, bias, inputs, etc..\n",
    "tf.reset_default_graph()\n",
    "\n",
    "# Inputs\n",
    "x = neural_net_image_input((32, 32, 3))\n",
    "y = neural_net_label_input(10)\n",
    "keep_prob = neural_net_keep_prob_input()\n",
    "\n",
    "# Model\n",
    "logits = conv_net(x, keep_prob)\n",
    "\n",
    "# Name logits Tensor, so that is can be loaded from disk after training\n",
    "logits = tf.identity(logits, name='logits')\n",
    "\n",
    "# Loss and Optimizer\n",
    "cost = tf.reduce_mean(tf.nn.softmax_cross_entropy_with_logits(logits=logits, labels=y))\n",
    "optimizer = tf.train.AdamOptimizer().minimize(cost)\n",
    "\n",
    "# Accuracy\n",
    "correct_pred = tf.equal(tf.argmax(logits, 1), tf.argmax(y, 1))\n",
    "accuracy = tf.reduce_mean(tf.cast(correct_pred, tf.float32), name='accuracy')\n",
    "\n",
    "tests.test_conv_net(conv_net)"
   ]
  },
  {
   "cell_type": "markdown",
   "metadata": {
    "deletable": true,
    "editable": true
   },
   "source": [
    "## Train the Neural Network\n",
    "### Single Optimization\n",
    "Implement the function `train_neural_network` to do a single optimization.  The optimization should use `optimizer` to optimize in `session` with a `feed_dict` of the following:\n",
    "* `x` for image input\n",
    "* `y` for labels\n",
    "* `keep_prob` for keep probability for dropout\n",
    "\n",
    "This function will be called for each batch, so `tf.global_variables_initializer()` has already been called.\n",
    "\n",
    "Note: Nothing needs to be returned. This function is only optimizing the neural network."
   ]
  },
  {
   "cell_type": "code",
   "execution_count": 13,
   "metadata": {
    "collapsed": false,
    "deletable": true,
    "editable": true
   },
   "outputs": [
    {
     "name": "stdout",
     "output_type": "stream",
     "text": [
      "Tests Passed\n"
     ]
    }
   ],
   "source": [
    "def train_neural_network(session, optimizer, keep_probability, feature_batch, label_batch):\n",
    "    \"\"\"\n",
    "    Optimize the session on a batch of images and labels\n",
    "    : session: Current TensorFlow session\n",
    "    : optimizer: TensorFlow optimizer function\n",
    "    : keep_probability: keep probability\n",
    "    : feature_batch: Batch of Numpy image data\n",
    "    : label_batch: Batch of Numpy label data\n",
    "    \"\"\"\n",
    "    # TODO: Implement Function\n",
    "    session.run(optimizer, feed_dict={\n",
    "        x: feature_batch, \n",
    "        y: label_batch, \n",
    "        keep_prob: keep_probability\n",
    "    })\n",
    "\n",
    "\n",
    "\"\"\"\n",
    "DON'T MODIFY ANYTHING IN THIS CELL THAT IS BELOW THIS LINE\n",
    "\"\"\"\n",
    "tests.test_train_nn(train_neural_network)"
   ]
  },
  {
   "cell_type": "markdown",
   "metadata": {
    "deletable": true,
    "editable": true
   },
   "source": [
    "### Show Stats\n",
    "Implement the function `print_stats` to print loss and validation accuracy.  Use the global variables `valid_features` and `valid_labels` to calculate validation accuracy.  Use a keep probability of `1.0` to calculate the loss and validation accuracy."
   ]
  },
  {
   "cell_type": "code",
   "execution_count": 14,
   "metadata": {
    "collapsed": false,
    "deletable": true,
    "editable": true
   },
   "outputs": [],
   "source": [
    "def print_stats(session, feature_batch, label_batch, cost, accuracy):\n",
    "    \"\"\"\n",
    "    Print information about loss and validation accuracy\n",
    "    : session: Current TensorFlow session\n",
    "    : feature_batch: Batch of Numpy image data\n",
    "    : label_batch: Batch of Numpy label data\n",
    "    : cost: TensorFlow cost function\n",
    "    : accuracy: TensorFlow accuracy function\n",
    "    \"\"\"\n",
    "    # TODO: Implement Function\n",
    "    loss = session.run(cost, feed_dict={x: feature_batch, y: label_batch, keep_prob: 1.})\n",
    "    validation_accuracy = session.run(accuracy, feed_dict={x: valid_features[:1024], y: valid_labels[:1024], keep_prob: 1.})\n",
    "    \n",
    "    print('Loss: {:.4f}  Validation Accuracy: {:.4f}'.format(loss, validation_accuracy))"
   ]
  },
  {
   "cell_type": "markdown",
   "metadata": {
    "deletable": true,
    "editable": true
   },
   "source": [
    "### Hyperparameters\n",
    "Tune the following parameters:\n",
    "* Set `epochs` to the number of iterations until the network stops learning or start overfitting\n",
    "* Set `batch_size` to the highest number that your machine has memory for.  Most people set them to common sizes of memory:\n",
    " * 64\n",
    " * 128\n",
    " * 256\n",
    " * ...\n",
    "* Set `keep_probability` to the probability of keeping a node using dropout"
   ]
  },
  {
   "cell_type": "code",
   "execution_count": 17,
   "metadata": {
    "collapsed": true,
    "deletable": true,
    "editable": true
   },
   "outputs": [],
   "source": [
    "# TODO: Tune Parameters\n",
    "epochs = 48\n",
    "batch_size = 256\n",
    "keep_probability = 0.75"
   ]
  },
  {
   "cell_type": "markdown",
   "metadata": {
    "deletable": true,
    "editable": true
   },
   "source": [
    "### Train on a Single CIFAR-10 Batch\n",
    "Instead of training the neural network on all the CIFAR-10 batches of data, let's use a single batch. This should save time while you iterate on the model to get a better accuracy.  Once the final validation accuracy is 50% or greater, run the model on all the data in the next section."
   ]
  },
  {
   "cell_type": "code",
   "execution_count": 18,
   "metadata": {
    "collapsed": false,
    "deletable": true,
    "editable": true
   },
   "outputs": [
    {
     "name": "stdout",
     "output_type": "stream",
     "text": [
      "Checking the Training on a Single Batch...\n",
      "Epoch  1, CIFAR-10 Batch 1:  Loss: 2.2697  Validation Accuracy: 0.1953\n",
      "Epoch  2, CIFAR-10 Batch 1:  Loss: 2.2121  Validation Accuracy: 0.2285\n",
      "Epoch  3, CIFAR-10 Batch 1:  Loss: 2.2180  Validation Accuracy: 0.2529\n",
      "Epoch  4, CIFAR-10 Batch 1:  Loss: 2.1777  Validation Accuracy: 0.2871\n",
      "Epoch  5, CIFAR-10 Batch 1:  Loss: 2.0718  Validation Accuracy: 0.3193\n",
      "Epoch  6, CIFAR-10 Batch 1:  Loss: 1.8594  Validation Accuracy: 0.3438\n",
      "Epoch  7, CIFAR-10 Batch 1:  Loss: 1.7197  Validation Accuracy: 0.3770\n",
      "Epoch  8, CIFAR-10 Batch 1:  Loss: 1.5935  Validation Accuracy: 0.4053\n",
      "Epoch  9, CIFAR-10 Batch 1:  Loss: 1.5033  Validation Accuracy: 0.4102\n",
      "Epoch 10, CIFAR-10 Batch 1:  Loss: 1.4041  Validation Accuracy: 0.4346\n",
      "Epoch 11, CIFAR-10 Batch 1:  Loss: 1.3138  Validation Accuracy: 0.4551\n",
      "Epoch 12, CIFAR-10 Batch 1:  Loss: 1.2012  Validation Accuracy: 0.4639\n",
      "Epoch 13, CIFAR-10 Batch 1:  Loss: 1.1237  Validation Accuracy: 0.4746\n",
      "Epoch 14, CIFAR-10 Batch 1:  Loss: 1.0250  Validation Accuracy: 0.4912\n",
      "Epoch 15, CIFAR-10 Batch 1:  Loss: 0.9296  Validation Accuracy: 0.4912\n",
      "Epoch 16, CIFAR-10 Batch 1:  Loss: 0.8491  Validation Accuracy: 0.5078\n",
      "Epoch 17, CIFAR-10 Batch 1:  Loss: 0.7545  Validation Accuracy: 0.5127\n",
      "Epoch 18, CIFAR-10 Batch 1:  Loss: 0.7006  Validation Accuracy: 0.5068\n",
      "Epoch 19, CIFAR-10 Batch 1:  Loss: 0.6821  Validation Accuracy: 0.5176\n",
      "Epoch 20, CIFAR-10 Batch 1:  Loss: 0.6149  Validation Accuracy: 0.5264\n",
      "Epoch 21, CIFAR-10 Batch 1:  Loss: 0.5577  Validation Accuracy: 0.5342\n",
      "Epoch 22, CIFAR-10 Batch 1:  Loss: 0.4755  Validation Accuracy: 0.5137\n",
      "Epoch 23, CIFAR-10 Batch 1:  Loss: 0.4434  Validation Accuracy: 0.4990\n",
      "Epoch 24, CIFAR-10 Batch 1:  Loss: 0.3636  Validation Accuracy: 0.5293\n",
      "Epoch 25, CIFAR-10 Batch 1:  Loss: 0.3350  Validation Accuracy: 0.5508\n",
      "Epoch 26, CIFAR-10 Batch 1:  Loss: 0.2969  Validation Accuracy: 0.5283\n",
      "Epoch 27, CIFAR-10 Batch 1:  Loss: 0.2424  Validation Accuracy: 0.5352\n",
      "Epoch 28, CIFAR-10 Batch 1:  Loss: 0.2436  Validation Accuracy: 0.5244\n",
      "Epoch 29, CIFAR-10 Batch 1:  Loss: 0.2135  Validation Accuracy: 0.5068\n",
      "Epoch 30, CIFAR-10 Batch 1:  Loss: 0.1841  Validation Accuracy: 0.5146\n",
      "Epoch 31, CIFAR-10 Batch 1:  Loss: 0.1570  Validation Accuracy: 0.5352\n",
      "Epoch 32, CIFAR-10 Batch 1:  Loss: 0.1247  Validation Accuracy: 0.5430\n",
      "Epoch 33, CIFAR-10 Batch 1:  Loss: 0.0947  Validation Accuracy: 0.5518\n",
      "Epoch 34, CIFAR-10 Batch 1:  Loss: 0.0831  Validation Accuracy: 0.5547\n",
      "Epoch 35, CIFAR-10 Batch 1:  Loss: 0.0708  Validation Accuracy: 0.5361\n",
      "Epoch 36, CIFAR-10 Batch 1:  Loss: 0.0986  Validation Accuracy: 0.5215\n",
      "Epoch 37, CIFAR-10 Batch 1:  Loss: 0.0630  Validation Accuracy: 0.5273\n",
      "Epoch 38, CIFAR-10 Batch 1:  Loss: 0.0474  Validation Accuracy: 0.5146\n",
      "Epoch 39, CIFAR-10 Batch 1:  Loss: 0.0546  Validation Accuracy: 0.5479\n",
      "Epoch 40, CIFAR-10 Batch 1:  Loss: 0.0445  Validation Accuracy: 0.5498\n",
      "Epoch 41, CIFAR-10 Batch 1:  Loss: 0.0406  Validation Accuracy: 0.5625\n",
      "Epoch 42, CIFAR-10 Batch 1:  Loss: 0.0345  Validation Accuracy: 0.5449\n",
      "Epoch 43, CIFAR-10 Batch 1:  Loss: 0.0235  Validation Accuracy: 0.5625\n",
      "Epoch 44, CIFAR-10 Batch 1:  Loss: 0.0221  Validation Accuracy: 0.5605\n",
      "Epoch 45, CIFAR-10 Batch 1:  Loss: 0.0173  Validation Accuracy: 0.5654\n",
      "Epoch 46, CIFAR-10 Batch 1:  Loss: 0.0185  Validation Accuracy: 0.5479\n",
      "Epoch 47, CIFAR-10 Batch 1:  Loss: 0.0272  Validation Accuracy: 0.5635\n",
      "Epoch 48, CIFAR-10 Batch 1:  Loss: 0.0392  Validation Accuracy: 0.5303\n"
     ]
    }
   ],
   "source": [
    "\"\"\"\n",
    "DON'T MODIFY ANYTHING IN THIS CELL\n",
    "\"\"\"\n",
    "print('Checking the Training on a Single Batch...')\n",
    "with tf.Session() as sess:\n",
    "    # Initializing the variables\n",
    "    sess.run(tf.global_variables_initializer())\n",
    "    \n",
    "    # Training cycle\n",
    "    for epoch in range(epochs):\n",
    "        batch_i = 1\n",
    "        for batch_features, batch_labels in helper.load_preprocess_training_batch(batch_i, batch_size):\n",
    "            train_neural_network(sess, optimizer, keep_probability, batch_features, batch_labels)\n",
    "        print('Epoch {:>2}, CIFAR-10 Batch {}:  '.format(epoch + 1, batch_i), end='')\n",
    "        print_stats(sess, batch_features, batch_labels, cost, accuracy)"
   ]
  },
  {
   "cell_type": "markdown",
   "metadata": {
    "deletable": true,
    "editable": true
   },
   "source": [
    "### Fully Train the Model\n",
    "Now that you got a good accuracy with a single CIFAR-10 batch, try it with all five batches."
   ]
  },
  {
   "cell_type": "code",
   "execution_count": 19,
   "metadata": {
    "collapsed": false,
    "deletable": true,
    "editable": true
   },
   "outputs": [
    {
     "name": "stdout",
     "output_type": "stream",
     "text": [
      "Training...\n",
      "Epoch  1, CIFAR-10 Batch 1:  Loss: 2.2391  Validation Accuracy: 0.2041\n",
      "Epoch  1, CIFAR-10 Batch 2:  Loss: 2.1279  Validation Accuracy: 0.2246\n",
      "Epoch  1, CIFAR-10 Batch 3:  Loss: 1.8964  Validation Accuracy: 0.2305\n",
      "Epoch  1, CIFAR-10 Batch 4:  Loss: 1.9102  Validation Accuracy: 0.2637\n",
      "Epoch  1, CIFAR-10 Batch 5:  Loss: 1.8611  Validation Accuracy: 0.2803\n",
      "Epoch  2, CIFAR-10 Batch 1:  Loss: 2.0492  Validation Accuracy: 0.3125\n",
      "Epoch  2, CIFAR-10 Batch 2:  Loss: 1.8772  Validation Accuracy: 0.3418\n",
      "Epoch  2, CIFAR-10 Batch 3:  Loss: 1.4911  Validation Accuracy: 0.3398\n",
      "Epoch  2, CIFAR-10 Batch 4:  Loss: 1.6149  Validation Accuracy: 0.3760\n",
      "Epoch  2, CIFAR-10 Batch 5:  Loss: 1.6745  Validation Accuracy: 0.3857\n",
      "Epoch  3, CIFAR-10 Batch 1:  Loss: 1.7935  Validation Accuracy: 0.4219\n",
      "Epoch  3, CIFAR-10 Batch 2:  Loss: 1.5434  Validation Accuracy: 0.4160\n",
      "Epoch  3, CIFAR-10 Batch 3:  Loss: 1.2642  Validation Accuracy: 0.4121\n",
      "Epoch  3, CIFAR-10 Batch 4:  Loss: 1.3704  Validation Accuracy: 0.4795\n",
      "Epoch  3, CIFAR-10 Batch 5:  Loss: 1.4637  Validation Accuracy: 0.4775\n",
      "Epoch  4, CIFAR-10 Batch 1:  Loss: 1.5790  Validation Accuracy: 0.4971\n",
      "Epoch  4, CIFAR-10 Batch 2:  Loss: 1.3005  Validation Accuracy: 0.4463\n",
      "Epoch  4, CIFAR-10 Batch 3:  Loss: 1.0954  Validation Accuracy: 0.4619\n",
      "Epoch  4, CIFAR-10 Batch 4:  Loss: 1.2060  Validation Accuracy: 0.5117\n",
      "Epoch  4, CIFAR-10 Batch 5:  Loss: 1.2619  Validation Accuracy: 0.5117\n",
      "Epoch  5, CIFAR-10 Batch 1:  Loss: 1.3469  Validation Accuracy: 0.5059\n",
      "Epoch  5, CIFAR-10 Batch 2:  Loss: 1.1153  Validation Accuracy: 0.5312\n",
      "Epoch  5, CIFAR-10 Batch 3:  Loss: 1.0000  Validation Accuracy: 0.5078\n",
      "Epoch  5, CIFAR-10 Batch 4:  Loss: 1.1190  Validation Accuracy: 0.5342\n",
      "Epoch  5, CIFAR-10 Batch 5:  Loss: 1.1541  Validation Accuracy: 0.5117\n",
      "Epoch  6, CIFAR-10 Batch 1:  Loss: 1.2233  Validation Accuracy: 0.5244\n",
      "Epoch  6, CIFAR-10 Batch 2:  Loss: 0.9839  Validation Accuracy: 0.5273\n",
      "Epoch  6, CIFAR-10 Batch 3:  Loss: 0.8932  Validation Accuracy: 0.5283\n",
      "Epoch  6, CIFAR-10 Batch 4:  Loss: 0.9789  Validation Accuracy: 0.5488\n",
      "Epoch  6, CIFAR-10 Batch 5:  Loss: 1.1154  Validation Accuracy: 0.5293\n",
      "Epoch  7, CIFAR-10 Batch 1:  Loss: 1.1305  Validation Accuracy: 0.5527\n",
      "Epoch  7, CIFAR-10 Batch 2:  Loss: 0.8439  Validation Accuracy: 0.5566\n",
      "Epoch  7, CIFAR-10 Batch 3:  Loss: 0.7815  Validation Accuracy: 0.5527\n",
      "Epoch  7, CIFAR-10 Batch 4:  Loss: 0.8977  Validation Accuracy: 0.5674\n",
      "Epoch  7, CIFAR-10 Batch 5:  Loss: 0.9091  Validation Accuracy: 0.5596\n",
      "Epoch  8, CIFAR-10 Batch 1:  Loss: 1.0100  Validation Accuracy: 0.5586\n",
      "Epoch  8, CIFAR-10 Batch 2:  Loss: 0.7326  Validation Accuracy: 0.5908\n",
      "Epoch  8, CIFAR-10 Batch 3:  Loss: 0.7020  Validation Accuracy: 0.5723\n",
      "Epoch  8, CIFAR-10 Batch 4:  Loss: 0.8147  Validation Accuracy: 0.5967\n",
      "Epoch  8, CIFAR-10 Batch 5:  Loss: 0.7958  Validation Accuracy: 0.5771\n",
      "Epoch  9, CIFAR-10 Batch 1:  Loss: 0.8601  Validation Accuracy: 0.5820\n",
      "Epoch  9, CIFAR-10 Batch 2:  Loss: 0.6726  Validation Accuracy: 0.5918\n",
      "Epoch  9, CIFAR-10 Batch 3:  Loss: 0.5836  Validation Accuracy: 0.5850\n",
      "Epoch  9, CIFAR-10 Batch 4:  Loss: 0.7414  Validation Accuracy: 0.6172\n",
      "Epoch  9, CIFAR-10 Batch 5:  Loss: 0.6733  Validation Accuracy: 0.5859\n",
      "Epoch 10, CIFAR-10 Batch 1:  Loss: 0.7867  Validation Accuracy: 0.5967\n",
      "Epoch 10, CIFAR-10 Batch 2:  Loss: 0.5722  Validation Accuracy: 0.6133\n",
      "Epoch 10, CIFAR-10 Batch 3:  Loss: 0.5095  Validation Accuracy: 0.6006\n",
      "Epoch 10, CIFAR-10 Batch 4:  Loss: 0.6200  Validation Accuracy: 0.6240\n",
      "Epoch 10, CIFAR-10 Batch 5:  Loss: 0.5219  Validation Accuracy: 0.6123\n",
      "Epoch 11, CIFAR-10 Batch 1:  Loss: 0.6628  Validation Accuracy: 0.6172\n",
      "Epoch 11, CIFAR-10 Batch 2:  Loss: 0.4853  Validation Accuracy: 0.6289\n",
      "Epoch 11, CIFAR-10 Batch 3:  Loss: 0.4413  Validation Accuracy: 0.6221\n",
      "Epoch 11, CIFAR-10 Batch 4:  Loss: 0.5445  Validation Accuracy: 0.6318\n",
      "Epoch 11, CIFAR-10 Batch 5:  Loss: 0.4587  Validation Accuracy: 0.6201\n",
      "Epoch 12, CIFAR-10 Batch 1:  Loss: 0.6067  Validation Accuracy: 0.6123\n",
      "Epoch 12, CIFAR-10 Batch 2:  Loss: 0.4157  Validation Accuracy: 0.6406\n",
      "Epoch 12, CIFAR-10 Batch 3:  Loss: 0.3630  Validation Accuracy: 0.6387\n",
      "Epoch 12, CIFAR-10 Batch 4:  Loss: 0.4531  Validation Accuracy: 0.6494\n",
      "Epoch 12, CIFAR-10 Batch 5:  Loss: 0.3712  Validation Accuracy: 0.6221\n",
      "Epoch 13, CIFAR-10 Batch 1:  Loss: 0.5090  Validation Accuracy: 0.6230\n",
      "Epoch 13, CIFAR-10 Batch 2:  Loss: 0.3418  Validation Accuracy: 0.6514\n",
      "Epoch 13, CIFAR-10 Batch 3:  Loss: 0.3143  Validation Accuracy: 0.6562\n",
      "Epoch 13, CIFAR-10 Batch 4:  Loss: 0.4054  Validation Accuracy: 0.6514\n",
      "Epoch 13, CIFAR-10 Batch 5:  Loss: 0.3293  Validation Accuracy: 0.6240\n",
      "Epoch 14, CIFAR-10 Batch 1:  Loss: 0.4495  Validation Accuracy: 0.6406\n",
      "Epoch 14, CIFAR-10 Batch 2:  Loss: 0.3152  Validation Accuracy: 0.6367\n",
      "Epoch 14, CIFAR-10 Batch 3:  Loss: 0.2616  Validation Accuracy: 0.6641\n",
      "Epoch 14, CIFAR-10 Batch 4:  Loss: 0.3703  Validation Accuracy: 0.6553\n",
      "Epoch 14, CIFAR-10 Batch 5:  Loss: 0.3020  Validation Accuracy: 0.6426\n",
      "Epoch 15, CIFAR-10 Batch 1:  Loss: 0.4130  Validation Accuracy: 0.6494\n",
      "Epoch 15, CIFAR-10 Batch 2:  Loss: 0.2562  Validation Accuracy: 0.6582\n",
      "Epoch 15, CIFAR-10 Batch 3:  Loss: 0.2455  Validation Accuracy: 0.6709\n",
      "Epoch 15, CIFAR-10 Batch 4:  Loss: 0.2922  Validation Accuracy: 0.6748\n",
      "Epoch 15, CIFAR-10 Batch 5:  Loss: 0.2214  Validation Accuracy: 0.6572\n",
      "Epoch 16, CIFAR-10 Batch 1:  Loss: 0.3355  Validation Accuracy: 0.6729\n",
      "Epoch 16, CIFAR-10 Batch 2:  Loss: 0.2187  Validation Accuracy: 0.6582\n",
      "Epoch 16, CIFAR-10 Batch 3:  Loss: 0.2158  Validation Accuracy: 0.6777\n",
      "Epoch 16, CIFAR-10 Batch 4:  Loss: 0.2257  Validation Accuracy: 0.6836\n",
      "Epoch 16, CIFAR-10 Batch 5:  Loss: 0.1714  Validation Accuracy: 0.6660\n",
      "Epoch 17, CIFAR-10 Batch 1:  Loss: 0.2971  Validation Accuracy: 0.6621\n",
      "Epoch 17, CIFAR-10 Batch 2:  Loss: 0.2083  Validation Accuracy: 0.6699\n",
      "Epoch 17, CIFAR-10 Batch 3:  Loss: 0.1834  Validation Accuracy: 0.6719\n",
      "Epoch 17, CIFAR-10 Batch 4:  Loss: 0.2055  Validation Accuracy: 0.6719\n",
      "Epoch 17, CIFAR-10 Batch 5:  Loss: 0.1443  Validation Accuracy: 0.6631\n",
      "Epoch 18, CIFAR-10 Batch 1:  Loss: 0.2390  Validation Accuracy: 0.6787\n",
      "Epoch 18, CIFAR-10 Batch 2:  Loss: 0.1813  Validation Accuracy: 0.6611\n",
      "Epoch 18, CIFAR-10 Batch 3:  Loss: 0.1580  Validation Accuracy: 0.6807\n",
      "Epoch 18, CIFAR-10 Batch 4:  Loss: 0.1498  Validation Accuracy: 0.6855\n",
      "Epoch 18, CIFAR-10 Batch 5:  Loss: 0.1099  Validation Accuracy: 0.6738\n",
      "Epoch 19, CIFAR-10 Batch 1:  Loss: 0.2332  Validation Accuracy: 0.6865\n",
      "Epoch 19, CIFAR-10 Batch 2:  Loss: 0.1358  Validation Accuracy: 0.6562\n",
      "Epoch 19, CIFAR-10 Batch 3:  Loss: 0.1296  Validation Accuracy: 0.6846\n",
      "Epoch 19, CIFAR-10 Batch 4:  Loss: 0.1302  Validation Accuracy: 0.6641\n",
      "Epoch 19, CIFAR-10 Batch 5:  Loss: 0.1023  Validation Accuracy: 0.6738\n",
      "Epoch 20, CIFAR-10 Batch 1:  Loss: 0.1790  Validation Accuracy: 0.6924\n",
      "Epoch 20, CIFAR-10 Batch 2:  Loss: 0.1143  Validation Accuracy: 0.6553\n",
      "Epoch 20, CIFAR-10 Batch 3:  Loss: 0.1413  Validation Accuracy: 0.6660\n",
      "Epoch 20, CIFAR-10 Batch 4:  Loss: 0.1226  Validation Accuracy: 0.6641\n",
      "Epoch 20, CIFAR-10 Batch 5:  Loss: 0.0900  Validation Accuracy: 0.6797\n",
      "Epoch 21, CIFAR-10 Batch 1:  Loss: 0.1421  Validation Accuracy: 0.6895\n",
      "Epoch 21, CIFAR-10 Batch 2:  Loss: 0.1202  Validation Accuracy: 0.6465\n",
      "Epoch 21, CIFAR-10 Batch 3:  Loss: 0.0918  Validation Accuracy: 0.6738\n",
      "Epoch 21, CIFAR-10 Batch 4:  Loss: 0.1023  Validation Accuracy: 0.6895\n",
      "Epoch 21, CIFAR-10 Batch 5:  Loss: 0.0638  Validation Accuracy: 0.6650\n",
      "Epoch 22, CIFAR-10 Batch 1:  Loss: 0.1219  Validation Accuracy: 0.6787\n",
      "Epoch 22, CIFAR-10 Batch 2:  Loss: 0.1043  Validation Accuracy: 0.6455\n",
      "Epoch 22, CIFAR-10 Batch 3:  Loss: 0.0813  Validation Accuracy: 0.6885\n",
      "Epoch 22, CIFAR-10 Batch 4:  Loss: 0.0951  Validation Accuracy: 0.7002\n",
      "Epoch 22, CIFAR-10 Batch 5:  Loss: 0.0523  Validation Accuracy: 0.6719\n",
      "Epoch 23, CIFAR-10 Batch 1:  Loss: 0.0947  Validation Accuracy: 0.6729\n",
      "Epoch 23, CIFAR-10 Batch 2:  Loss: 0.0851  Validation Accuracy: 0.6719\n",
      "Epoch 23, CIFAR-10 Batch 3:  Loss: 0.0749  Validation Accuracy: 0.6748\n",
      "Epoch 23, CIFAR-10 Batch 4:  Loss: 0.0794  Validation Accuracy: 0.6855\n",
      "Epoch 23, CIFAR-10 Batch 5:  Loss: 0.0484  Validation Accuracy: 0.6689\n",
      "Epoch 24, CIFAR-10 Batch 1:  Loss: 0.0886  Validation Accuracy: 0.6875\n",
      "Epoch 24, CIFAR-10 Batch 2:  Loss: 0.0679  Validation Accuracy: 0.6514\n",
      "Epoch 24, CIFAR-10 Batch 3:  Loss: 0.0608  Validation Accuracy: 0.6768\n",
      "Epoch 24, CIFAR-10 Batch 4:  Loss: 0.0508  Validation Accuracy: 0.6768\n",
      "Epoch 24, CIFAR-10 Batch 5:  Loss: 0.0383  Validation Accuracy: 0.6729\n",
      "Epoch 25, CIFAR-10 Batch 1:  Loss: 0.0817  Validation Accuracy: 0.6680\n",
      "Epoch 25, CIFAR-10 Batch 2:  Loss: 0.0495  Validation Accuracy: 0.6523\n",
      "Epoch 25, CIFAR-10 Batch 3:  Loss: 0.0553  Validation Accuracy: 0.6699\n",
      "Epoch 25, CIFAR-10 Batch 4:  Loss: 0.0498  Validation Accuracy: 0.6875\n",
      "Epoch 25, CIFAR-10 Batch 5:  Loss: 0.0418  Validation Accuracy: 0.6787\n",
      "Epoch 26, CIFAR-10 Batch 1:  Loss: 0.0645  Validation Accuracy: 0.6719\n",
      "Epoch 26, CIFAR-10 Batch 2:  Loss: 0.0508  Validation Accuracy: 0.6592\n",
      "Epoch 26, CIFAR-10 Batch 3:  Loss: 0.0541  Validation Accuracy: 0.6777\n",
      "Epoch 26, CIFAR-10 Batch 4:  Loss: 0.0402  Validation Accuracy: 0.6797\n",
      "Epoch 26, CIFAR-10 Batch 5:  Loss: 0.0466  Validation Accuracy: 0.6807\n",
      "Epoch 27, CIFAR-10 Batch 1:  Loss: 0.0785  Validation Accuracy: 0.6445\n",
      "Epoch 27, CIFAR-10 Batch 2:  Loss: 0.0412  Validation Accuracy: 0.6768\n",
      "Epoch 27, CIFAR-10 Batch 3:  Loss: 0.0551  Validation Accuracy: 0.6494\n",
      "Epoch 27, CIFAR-10 Batch 4:  Loss: 0.0393  Validation Accuracy: 0.6758\n",
      "Epoch 27, CIFAR-10 Batch 5:  Loss: 0.0329  Validation Accuracy: 0.6846\n",
      "Epoch 28, CIFAR-10 Batch 1:  Loss: 0.0897  Validation Accuracy: 0.6709\n",
      "Epoch 28, CIFAR-10 Batch 2:  Loss: 0.0401  Validation Accuracy: 0.6553\n",
      "Epoch 28, CIFAR-10 Batch 3:  Loss: 0.0332  Validation Accuracy: 0.6650\n",
      "Epoch 28, CIFAR-10 Batch 4:  Loss: 0.0279  Validation Accuracy: 0.6689\n",
      "Epoch 28, CIFAR-10 Batch 5:  Loss: 0.0359  Validation Accuracy: 0.6641\n",
      "Epoch 29, CIFAR-10 Batch 1:  Loss: 0.0587  Validation Accuracy: 0.6729\n",
      "Epoch 29, CIFAR-10 Batch 2:  Loss: 0.0339  Validation Accuracy: 0.6465\n",
      "Epoch 29, CIFAR-10 Batch 3:  Loss: 0.0340  Validation Accuracy: 0.6904\n",
      "Epoch 29, CIFAR-10 Batch 4:  Loss: 0.0249  Validation Accuracy: 0.6748\n",
      "Epoch 29, CIFAR-10 Batch 5:  Loss: 0.0284  Validation Accuracy: 0.6934\n",
      "Epoch 30, CIFAR-10 Batch 1:  Loss: 0.0430  Validation Accuracy: 0.6729\n",
      "Epoch 30, CIFAR-10 Batch 2:  Loss: 0.0327  Validation Accuracy: 0.6562\n",
      "Epoch 30, CIFAR-10 Batch 3:  Loss: 0.0255  Validation Accuracy: 0.6963\n",
      "Epoch 30, CIFAR-10 Batch 4:  Loss: 0.0211  Validation Accuracy: 0.6807\n",
      "Epoch 30, CIFAR-10 Batch 5:  Loss: 0.0213  Validation Accuracy: 0.6885\n",
      "Epoch 31, CIFAR-10 Batch 1:  Loss: 0.0299  Validation Accuracy: 0.6709\n",
      "Epoch 31, CIFAR-10 Batch 2:  Loss: 0.0352  Validation Accuracy: 0.6680\n",
      "Epoch 31, CIFAR-10 Batch 3:  Loss: 0.0229  Validation Accuracy: 0.6758\n",
      "Epoch 31, CIFAR-10 Batch 4:  Loss: 0.0174  Validation Accuracy: 0.6836\n",
      "Epoch 31, CIFAR-10 Batch 5:  Loss: 0.0163  Validation Accuracy: 0.6904\n",
      "Epoch 32, CIFAR-10 Batch 1:  Loss: 0.0308  Validation Accuracy: 0.6719\n",
      "Epoch 32, CIFAR-10 Batch 2:  Loss: 0.0319  Validation Accuracy: 0.6768\n",
      "Epoch 32, CIFAR-10 Batch 3:  Loss: 0.0263  Validation Accuracy: 0.6787\n",
      "Epoch 32, CIFAR-10 Batch 4:  Loss: 0.0159  Validation Accuracy: 0.6943\n",
      "Epoch 32, CIFAR-10 Batch 5:  Loss: 0.0120  Validation Accuracy: 0.6934\n",
      "Epoch 33, CIFAR-10 Batch 1:  Loss: 0.0275  Validation Accuracy: 0.6504\n",
      "Epoch 33, CIFAR-10 Batch 2:  Loss: 0.0279  Validation Accuracy: 0.6768\n",
      "Epoch 33, CIFAR-10 Batch 3:  Loss: 0.0212  Validation Accuracy: 0.6797\n",
      "Epoch 33, CIFAR-10 Batch 4:  Loss: 0.0161  Validation Accuracy: 0.6885\n",
      "Epoch 33, CIFAR-10 Batch 5:  Loss: 0.0125  Validation Accuracy: 0.6807\n",
      "Epoch 34, CIFAR-10 Batch 1:  Loss: 0.0262  Validation Accuracy: 0.6602\n",
      "Epoch 34, CIFAR-10 Batch 2:  Loss: 0.0282  Validation Accuracy: 0.6797\n",
      "Epoch 34, CIFAR-10 Batch 3:  Loss: 0.0230  Validation Accuracy: 0.6709\n",
      "Epoch 34, CIFAR-10 Batch 4:  Loss: 0.0199  Validation Accuracy: 0.6895\n",
      "Epoch 34, CIFAR-10 Batch 5:  Loss: 0.0094  Validation Accuracy: 0.6768\n",
      "Epoch 35, CIFAR-10 Batch 1:  Loss: 0.0209  Validation Accuracy: 0.6670\n",
      "Epoch 35, CIFAR-10 Batch 2:  Loss: 0.0410  Validation Accuracy: 0.6787\n",
      "Epoch 35, CIFAR-10 Batch 3:  Loss: 0.0204  Validation Accuracy: 0.6758\n",
      "Epoch 35, CIFAR-10 Batch 4:  Loss: 0.0218  Validation Accuracy: 0.6904\n",
      "Epoch 35, CIFAR-10 Batch 5:  Loss: 0.0085  Validation Accuracy: 0.6826\n",
      "Epoch 36, CIFAR-10 Batch 1:  Loss: 0.0199  Validation Accuracy: 0.6719\n",
      "Epoch 36, CIFAR-10 Batch 2:  Loss: 0.0176  Validation Accuracy: 0.6865\n",
      "Epoch 36, CIFAR-10 Batch 3:  Loss: 0.0209  Validation Accuracy: 0.6641\n",
      "Epoch 36, CIFAR-10 Batch 4:  Loss: 0.0180  Validation Accuracy: 0.6807\n",
      "Epoch 36, CIFAR-10 Batch 5:  Loss: 0.0080  Validation Accuracy: 0.6768\n",
      "Epoch 37, CIFAR-10 Batch 1:  Loss: 0.0183  Validation Accuracy: 0.6738\n",
      "Epoch 37, CIFAR-10 Batch 2:  Loss: 0.0289  Validation Accuracy: 0.6846\n",
      "Epoch 37, CIFAR-10 Batch 3:  Loss: 0.0117  Validation Accuracy: 0.6729\n",
      "Epoch 37, CIFAR-10 Batch 4:  Loss: 0.0148  Validation Accuracy: 0.6885\n",
      "Epoch 37, CIFAR-10 Batch 5:  Loss: 0.0131  Validation Accuracy: 0.6680\n",
      "Epoch 38, CIFAR-10 Batch 1:  Loss: 0.0110  Validation Accuracy: 0.6816\n",
      "Epoch 38, CIFAR-10 Batch 2:  Loss: 0.0212  Validation Accuracy: 0.6865\n",
      "Epoch 38, CIFAR-10 Batch 3:  Loss: 0.0087  Validation Accuracy: 0.6816\n",
      "Epoch 38, CIFAR-10 Batch 4:  Loss: 0.0099  Validation Accuracy: 0.6953\n",
      "Epoch 38, CIFAR-10 Batch 5:  Loss: 0.0114  Validation Accuracy: 0.6650\n",
      "Epoch 39, CIFAR-10 Batch 1:  Loss: 0.0077  Validation Accuracy: 0.6875\n",
      "Epoch 39, CIFAR-10 Batch 2:  Loss: 0.0123  Validation Accuracy: 0.6953\n",
      "Epoch 39, CIFAR-10 Batch 3:  Loss: 0.0056  Validation Accuracy: 0.6816\n",
      "Epoch 39, CIFAR-10 Batch 4:  Loss: 0.0057  Validation Accuracy: 0.6807\n",
      "Epoch 39, CIFAR-10 Batch 5:  Loss: 0.0076  Validation Accuracy: 0.6807\n",
      "Epoch 40, CIFAR-10 Batch 1:  Loss: 0.0075  Validation Accuracy: 0.6836\n",
      "Epoch 40, CIFAR-10 Batch 2:  Loss: 0.0089  Validation Accuracy: 0.6924\n",
      "Epoch 40, CIFAR-10 Batch 3:  Loss: 0.0059  Validation Accuracy: 0.6865\n",
      "Epoch 40, CIFAR-10 Batch 4:  Loss: 0.0055  Validation Accuracy: 0.6973\n",
      "Epoch 40, CIFAR-10 Batch 5:  Loss: 0.0053  Validation Accuracy: 0.6807\n",
      "Epoch 41, CIFAR-10 Batch 1:  Loss: 0.0049  Validation Accuracy: 0.6816\n",
      "Epoch 41, CIFAR-10 Batch 2:  Loss: 0.0081  Validation Accuracy: 0.6855\n",
      "Epoch 41, CIFAR-10 Batch 3:  Loss: 0.0071  Validation Accuracy: 0.6846\n",
      "Epoch 41, CIFAR-10 Batch 4:  Loss: 0.0040  Validation Accuracy: 0.6855\n",
      "Epoch 41, CIFAR-10 Batch 5:  Loss: 0.0054  Validation Accuracy: 0.6758\n",
      "Epoch 42, CIFAR-10 Batch 1:  Loss: 0.0069  Validation Accuracy: 0.6934\n",
      "Epoch 42, CIFAR-10 Batch 2:  Loss: 0.0100  Validation Accuracy: 0.6855\n",
      "Epoch 42, CIFAR-10 Batch 3:  Loss: 0.0047  Validation Accuracy: 0.6816\n",
      "Epoch 42, CIFAR-10 Batch 4:  Loss: 0.0073  Validation Accuracy: 0.6836\n",
      "Epoch 42, CIFAR-10 Batch 5:  Loss: 0.0040  Validation Accuracy: 0.6797\n",
      "Epoch 43, CIFAR-10 Batch 1:  Loss: 0.0076  Validation Accuracy: 0.6807\n",
      "Epoch 43, CIFAR-10 Batch 2:  Loss: 0.0050  Validation Accuracy: 0.6953\n",
      "Epoch 43, CIFAR-10 Batch 3:  Loss: 0.0039  Validation Accuracy: 0.6768\n",
      "Epoch 43, CIFAR-10 Batch 4:  Loss: 0.0050  Validation Accuracy: 0.6895\n",
      "Epoch 43, CIFAR-10 Batch 5:  Loss: 0.0133  Validation Accuracy: 0.6855\n",
      "Epoch 44, CIFAR-10 Batch 1:  Loss: 0.0041  Validation Accuracy: 0.6816\n",
      "Epoch 44, CIFAR-10 Batch 2:  Loss: 0.0056  Validation Accuracy: 0.6846\n",
      "Epoch 44, CIFAR-10 Batch 3:  Loss: 0.0037  Validation Accuracy: 0.6797\n",
      "Epoch 44, CIFAR-10 Batch 4:  Loss: 0.0054  Validation Accuracy: 0.6680\n",
      "Epoch 44, CIFAR-10 Batch 5:  Loss: 0.0036  Validation Accuracy: 0.7031\n",
      "Epoch 45, CIFAR-10 Batch 1:  Loss: 0.0035  Validation Accuracy: 0.6904\n",
      "Epoch 45, CIFAR-10 Batch 2:  Loss: 0.0053  Validation Accuracy: 0.6855\n",
      "Epoch 45, CIFAR-10 Batch 3:  Loss: 0.0048  Validation Accuracy: 0.6777\n",
      "Epoch 45, CIFAR-10 Batch 4:  Loss: 0.0049  Validation Accuracy: 0.6582\n",
      "Epoch 45, CIFAR-10 Batch 5:  Loss: 0.0042  Validation Accuracy: 0.6934\n",
      "Epoch 46, CIFAR-10 Batch 1:  Loss: 0.0050  Validation Accuracy: 0.6914\n",
      "Epoch 46, CIFAR-10 Batch 2:  Loss: 0.0038  Validation Accuracy: 0.6758\n",
      "Epoch 46, CIFAR-10 Batch 3:  Loss: 0.0022  Validation Accuracy: 0.6699\n",
      "Epoch 46, CIFAR-10 Batch 4:  Loss: 0.0023  Validation Accuracy: 0.6855\n",
      "Epoch 46, CIFAR-10 Batch 5:  Loss: 0.0045  Validation Accuracy: 0.6787\n",
      "Epoch 47, CIFAR-10 Batch 1:  Loss: 0.0044  Validation Accuracy: 0.7021\n",
      "Epoch 47, CIFAR-10 Batch 2:  Loss: 0.0031  Validation Accuracy: 0.6689\n",
      "Epoch 47, CIFAR-10 Batch 3:  Loss: 0.0030  Validation Accuracy: 0.6904\n",
      "Epoch 47, CIFAR-10 Batch 4:  Loss: 0.0034  Validation Accuracy: 0.6826\n",
      "Epoch 47, CIFAR-10 Batch 5:  Loss: 0.0036  Validation Accuracy: 0.6689\n",
      "Epoch 48, CIFAR-10 Batch 1:  Loss: 0.0029  Validation Accuracy: 0.6992\n",
      "Epoch 48, CIFAR-10 Batch 2:  Loss: 0.0020  Validation Accuracy: 0.6660\n",
      "Epoch 48, CIFAR-10 Batch 3:  Loss: 0.0038  Validation Accuracy: 0.6826\n",
      "Epoch 48, CIFAR-10 Batch 4:  Loss: 0.0031  Validation Accuracy: 0.6807\n",
      "Epoch 48, CIFAR-10 Batch 5:  Loss: 0.0021  Validation Accuracy: 0.6709\n"
     ]
    }
   ],
   "source": [
    "\"\"\"\n",
    "DON'T MODIFY ANYTHING IN THIS CELL\n",
    "\"\"\"\n",
    "save_model_path = './image_classification'\n",
    "\n",
    "print('Training...')\n",
    "with tf.Session() as sess:\n",
    "    # Initializing the variables\n",
    "    sess.run(tf.global_variables_initializer())\n",
    "    \n",
    "    # Training cycle\n",
    "    for epoch in range(epochs):\n",
    "        # Loop over all batches\n",
    "        n_batches = 5\n",
    "        for batch_i in range(1, n_batches + 1):\n",
    "            for batch_features, batch_labels in helper.load_preprocess_training_batch(batch_i, batch_size):\n",
    "                train_neural_network(sess, optimizer, keep_probability, batch_features, batch_labels)\n",
    "            print('Epoch {:>2}, CIFAR-10 Batch {}:  '.format(epoch + 1, batch_i), end='')\n",
    "            print_stats(sess, batch_features, batch_labels, cost, accuracy)\n",
    "            \n",
    "    # Save Model\n",
    "    saver = tf.train.Saver()\n",
    "    save_path = saver.save(sess, save_model_path)"
   ]
  },
  {
   "cell_type": "markdown",
   "metadata": {
    "deletable": true,
    "editable": true
   },
   "source": [
    "# Checkpoint\n",
    "The model has been saved to disk.\n",
    "## Test Model\n",
    "Test your model against the test dataset.  This will be your final accuracy. You should have an accuracy greater than 50%. If you don't, keep tweaking the model architecture and parameters."
   ]
  },
  {
   "cell_type": "code",
   "execution_count": 20,
   "metadata": {
    "collapsed": false,
    "deletable": true,
    "editable": true
   },
   "outputs": [
    {
     "name": "stdout",
     "output_type": "stream",
     "text": [
      "Testing Accuracy: 0.68564453125\n",
      "\n"
     ]
    },
    {
     "data": {
      "image/png": "[encoded data removed]",
      "text/plain": [
       "<matplotlib.figure.Figure at 0x7f62c4e9ef60>"
      ]
     },
     "metadata": {
      "image/png": {
       "height": 319,
       "width": 355
      }
     },
     "output_type": "display_data"
    }
   ],
   "source": [
    "\"\"\"\n",
    "DON'T MODIFY ANYTHING IN THIS CELL\n",
    "\"\"\"\n",
    "%matplotlib inline\n",
    "%config InlineBackend.figure_format = 'retina'\n",
    "\n",
    "import tensorflow as tf\n",
    "import pickle\n",
    "import helper\n",
    "import random\n",
    "\n",
    "# Set batch size if not already set\n",
    "try:\n",
    "    if batch_size:\n",
    "        pass\n",
    "except NameError:\n",
    "    batch_size = 64\n",
    "\n",
    "save_model_path = './image_classification'\n",
    "n_samples = 4\n",
    "top_n_predictions = 3\n",
    "\n",
    "def test_model():\n",
    "    \"\"\"\n",
    "    Test the saved model against the test dataset\n",
    "    \"\"\"\n",
    "\n",
    "    test_features, test_labels = pickle.load(open('preprocess_training.p', mode='rb'))\n",
    "    loaded_graph = tf.Graph()\n",
    "\n",
    "    with tf.Session(graph=loaded_graph) as sess:\n",
    "        # Load model\n",
    "        loader = tf.train.import_meta_graph(save_model_path + '.meta')\n",
    "        loader.restore(sess, save_model_path)\n",
    "\n",
    "        # Get Tensors from loaded model\n",
    "        loaded_x = loaded_graph.get_tensor_by_name('x:0')\n",
    "        loaded_y = loaded_graph.get_tensor_by_name('y:0')\n",
    "        loaded_keep_prob = loaded_graph.get_tensor_by_name('keep_prob:0')\n",
    "        loaded_logits = loaded_graph.get_tensor_by_name('logits:0')\n",
    "        loaded_acc = loaded_graph.get_tensor_by_name('accuracy:0')\n",
    "        \n",
    "        # Get accuracy in batches for memory limitations\n",
    "        test_batch_acc_total = 0\n",
    "        test_batch_count = 0\n",
    "        \n",
    "        for train_feature_batch, train_label_batch in helper.batch_features_labels(test_features, test_labels, batch_size):\n",
    "            test_batch_acc_total += sess.run(\n",
    "                loaded_acc,\n",
    "                feed_dict={loaded_x: train_feature_batch, loaded_y: train_label_batch, loaded_keep_prob: 1.0})\n",
    "            test_batch_count += 1\n",
    "\n",
    "        print('Testing Accuracy: {}\\n'.format(test_batch_acc_total/test_batch_count))\n",
    "\n",
    "        # Print Random Samples\n",
    "        random_test_features, random_test_labels = tuple(zip(*random.sample(list(zip(test_features, test_labels)), n_samples)))\n",
    "        random_test_predictions = sess.run(\n",
    "            tf.nn.top_k(tf.nn.softmax(loaded_logits), top_n_predictions),\n",
    "            feed_dict={loaded_x: random_test_features, loaded_y: random_test_labels, loaded_keep_prob: 1.0})\n",
    "        helper.display_image_predictions(random_test_features, random_test_labels, random_test_predictions)\n",
    "\n",
    "\n",
    "test_model()"
   ]
  },
  {
   "cell_type": "markdown",
   "metadata": {
    "deletable": true,
    "editable": true
   },
   "source": [
    "## Why 50-70% Accuracy?\n",
    "You might be wondering why you can't get an accuracy any higher. First things first, 50% isn't bad for a simple CNN.  Pure guessing would get you 10% accuracy. However, you might notice people are getting scores [well above 70%](http://rodrigob.github.io/are_we_there_yet/build/classification_datasets_results.html#43494641522d3130).  That's because we haven't taught you all there is to know about neural networks. We still need to cover a few more techniques.\n",
    "## Submitting This Project\n",
    "When submitting this project, make sure to run all the cells before saving the notebook.  Save the notebook file as \"dlnd_image_classification.ipynb\" and save it as a HTML file under \"File\" -> \"Download as\".  Include the \"helper.py\" and \"problem_unittests.py\" files in your submission."
   ]
  },
  {
   "cell_type": "code",
   "execution_count": null,
   "metadata": {
    "collapsed": true
   },
   "outputs": [],
   "source": []
  }
 ],
 "metadata": {
  "kernelspec": {
   "display_name": "Python 3",
   "language": "python",
   "name": "python3"
  },
  "language_info": {
   "codemirror_mode": {
    "name": "ipython",
    "version": 3
   },
   "file_extension": ".py",
   "mimetype": "text/x-python",
   "name": "python",
   "nbconvert_exporter": "python",
   "pygments_lexer": "ipython3",
   "version": "3.5.2"
  },
  "widgets": {
   "state": {},
   "version": "1.1.2"
  }
 },
 "nbformat": 4,
 "nbformat_minor": 0
}
